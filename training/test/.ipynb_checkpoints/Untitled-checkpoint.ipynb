{
 "cells": [
  {
   "cell_type": "code",
   "execution_count": 10,
   "id": "5b2ba7c6",
   "metadata": {},
   "outputs": [],
   "source": [
    "import sys\n",
    "sys.path.append('../..')"
   ]
  },
  {
   "cell_type": "code",
   "execution_count": 11,
   "id": "b1edba77",
   "metadata": {},
   "outputs": [
    {
     "name": "stderr",
     "output_type": "stream",
     "text": [
      "/Users/vu/Downloads/mlops/final_project/training/test/../../training/src/process.py:31: UserWarning: \n",
      "The version_base parameter is not specified.\n",
      "Please specify a compatability version level, or None.\n",
      "Will assume defaults for version 1.1\n",
      "  @hydra.main(config_path=\"../../config\", config_name=\"main\")\n"
     ]
    }
   ],
   "source": [
    "import pandas as pd\n",
    "from pandera import Check, Column, DataFrameSchema\n",
    "from pytest_steps import test_steps\n",
    "\n",
    "from training.src.process import get_features, rename_columns"
   ]
  },
  {
   "cell_type": "code",
   "execution_count": 12,
   "id": "050bf973",
   "metadata": {},
   "outputs": [
    {
     "data": {
      "text/html": [
       "<div>\n",
       "<style scoped>\n",
       "    .dataframe tbody tr th:only-of-type {\n",
       "        vertical-align: middle;\n",
       "    }\n",
       "\n",
       "    .dataframe tbody tr th {\n",
       "        vertical-align: top;\n",
       "    }\n",
       "\n",
       "    .dataframe thead th {\n",
       "        text-align: right;\n",
       "    }\n",
       "</style>\n",
       "<table border=\"1\" class=\"dataframe\">\n",
       "  <thead>\n",
       "    <tr style=\"text-align: right;\">\n",
       "      <th></th>\n",
       "      <th>Education</th>\n",
       "      <th>City</th>\n",
       "      <th>PaymentTier</th>\n",
       "      <th>Age</th>\n",
       "      <th>Gender</th>\n",
       "      <th>EverBenched</th>\n",
       "      <th>ExperienceInCurrentDomain</th>\n",
       "      <th>LeaveOrNot</th>\n",
       "    </tr>\n",
       "  </thead>\n",
       "  <tbody>\n",
       "    <tr>\n",
       "      <th>0</th>\n",
       "      <td>Bachelors</td>\n",
       "      <td>Bangalore</td>\n",
       "      <td>2</td>\n",
       "      <td>30</td>\n",
       "      <td>Male</td>\n",
       "      <td>No</td>\n",
       "      <td>2</td>\n",
       "      <td>0</td>\n",
       "    </tr>\n",
       "    <tr>\n",
       "      <th>1</th>\n",
       "      <td>Masters</td>\n",
       "      <td>Prune</td>\n",
       "      <td>3</td>\n",
       "      <td>21</td>\n",
       "      <td>Female</td>\n",
       "      <td>Yes</td>\n",
       "      <td>3</td>\n",
       "      <td>1</td>\n",
       "    </tr>\n",
       "  </tbody>\n",
       "</table>\n",
       "</div>"
      ],
      "text/plain": [
       "   Education       City  PaymentTier  Age  Gender EverBenched  \\\n",
       "0  Bachelors  Bangalore            2   30    Male          No   \n",
       "1    Masters      Prune            3   21  Female         Yes   \n",
       "\n",
       "   ExperienceInCurrentDomain  LeaveOrNot  \n",
       "0                          2           0  \n",
       "1                          3           1  "
      ]
     },
     "execution_count": 12,
     "metadata": {},
     "output_type": "execute_result"
    }
   ],
   "source": [
    "data = pd.DataFrame(\n",
    "    {\n",
    "        \"Education\": [\"Bachelors\", \"Masters\"],\n",
    "        \"City\": [\"Bangalore\", \"Prune\"],\n",
    "        \"PaymentTier\": [2, 3],\n",
    "        \"Age\": [30, 21],\n",
    "        \"Gender\": [\"Male\", \"Female\"],\n",
    "        \"EverBenched\": [\"No\", \"Yes\"],\n",
    "        \"ExperienceInCurrentDomain\": [2, 3],\n",
    "        \"LeaveOrNot\": [0, 1],\n",
    "    }\n",
    ")\n",
    "data"
   ]
  },
  {
   "cell_type": "code",
   "execution_count": 13,
   "id": "d2b83a82",
   "metadata": {},
   "outputs": [],
   "source": [
    "features = [\n",
    "    \"City\",\n",
    "    \"PaymentTier\",\n",
    "    \"Age\",\n",
    "    \"Gender\",\n",
    "    \"EverBenched\",\n",
    "    \"ExperienceInCurrentDomain\",\n",
    "]"
   ]
  },
  {
   "cell_type": "code",
   "execution_count": 14,
   "id": "a0cd3116",
   "metadata": {},
   "outputs": [],
   "source": [
    "target = \"LeaveOrNot\""
   ]
  },
  {
   "cell_type": "code",
   "execution_count": 15,
   "id": "5dc3ff65",
   "metadata": {},
   "outputs": [],
   "source": [
    "y, X = get_features(target, features, data)"
   ]
  },
  {
   "cell_type": "code",
   "execution_count": 17,
   "id": "bcedaccc",
   "metadata": {},
   "outputs": [
    {
     "data": {
      "text/html": [
       "<div>\n",
       "<style scoped>\n",
       "    .dataframe tbody tr th:only-of-type {\n",
       "        vertical-align: middle;\n",
       "    }\n",
       "\n",
       "    .dataframe tbody tr th {\n",
       "        vertical-align: top;\n",
       "    }\n",
       "\n",
       "    .dataframe thead th {\n",
       "        text-align: right;\n",
       "    }\n",
       "</style>\n",
       "<table border=\"1\" class=\"dataframe\">\n",
       "  <thead>\n",
       "    <tr style=\"text-align: right;\">\n",
       "      <th></th>\n",
       "      <th>City[Bangalore]</th>\n",
       "      <th>City[Prune]</th>\n",
       "      <th>Gender[T.Male]</th>\n",
       "      <th>EverBenched[T.Yes]</th>\n",
       "      <th>PaymentTier</th>\n",
       "      <th>Age</th>\n",
       "      <th>ExperienceInCurrentDomain</th>\n",
       "    </tr>\n",
       "  </thead>\n",
       "  <tbody>\n",
       "    <tr>\n",
       "      <th>0</th>\n",
       "      <td>1.0</td>\n",
       "      <td>0.0</td>\n",
       "      <td>1.0</td>\n",
       "      <td>0.0</td>\n",
       "      <td>2.0</td>\n",
       "      <td>30.0</td>\n",
       "      <td>2.0</td>\n",
       "    </tr>\n",
       "    <tr>\n",
       "      <th>1</th>\n",
       "      <td>0.0</td>\n",
       "      <td>1.0</td>\n",
       "      <td>0.0</td>\n",
       "      <td>1.0</td>\n",
       "      <td>3.0</td>\n",
       "      <td>21.0</td>\n",
       "      <td>3.0</td>\n",
       "    </tr>\n",
       "  </tbody>\n",
       "</table>\n",
       "</div>"
      ],
      "text/plain": [
       "   City[Bangalore]  City[Prune]  Gender[T.Male]  EverBenched[T.Yes]  \\\n",
       "0              1.0          0.0             1.0                 0.0   \n",
       "1              0.0          1.0             0.0                 1.0   \n",
       "\n",
       "   PaymentTier   Age  ExperienceInCurrentDomain  \n",
       "0          2.0  30.0                        2.0  \n",
       "1          3.0  21.0                        3.0  "
      ]
     },
     "execution_count": 17,
     "metadata": {},
     "output_type": "execute_result"
    }
   ],
   "source": [
    "X"
   ]
  },
  {
   "cell_type": "code",
   "execution_count": 18,
   "id": "9c8326e0",
   "metadata": {},
   "outputs": [],
   "source": [
    "schema = DataFrameSchema(\n",
    "    {\n",
    "        \"City[Bangalore]\": Column(float, Check.isin([0.0, 1.0])),\n",
    "        \"City[Prune]\": Column(float, Check.isin([0.0, 1.0])),\n",
    "        \"Gender[T.Male]\": Column(float, Check.isin([0.0, 1.0])),\n",
    "        \"EverBenched[T.Yes]\": Column(float, Check.isin([0.0, 1.0])),\n",
    "        \"PaymentTier\": Column(float, Check.isin([1, 2, 3])),\n",
    "        \"Age\": Column(float, Check.greater_than(10)),\n",
    "        \"ExperienceInCurrentDomain\": Column(\n",
    "            float, Check.greater_than_or_equal_to(0)\n",
    "        ),\n",
    "    }\n",
    ")"
   ]
  },
  {
   "cell_type": "code",
   "execution_count": 19,
   "id": "d962d6fb",
   "metadata": {},
   "outputs": [
    {
     "data": {
      "text/html": [
       "<div>\n",
       "<style scoped>\n",
       "    .dataframe tbody tr th:only-of-type {\n",
       "        vertical-align: middle;\n",
       "    }\n",
       "\n",
       "    .dataframe tbody tr th {\n",
       "        vertical-align: top;\n",
       "    }\n",
       "\n",
       "    .dataframe thead th {\n",
       "        text-align: right;\n",
       "    }\n",
       "</style>\n",
       "<table border=\"1\" class=\"dataframe\">\n",
       "  <thead>\n",
       "    <tr style=\"text-align: right;\">\n",
       "      <th></th>\n",
       "      <th>City[Bangalore]</th>\n",
       "      <th>City[Prune]</th>\n",
       "      <th>Gender[T.Male]</th>\n",
       "      <th>EverBenched[T.Yes]</th>\n",
       "      <th>PaymentTier</th>\n",
       "      <th>Age</th>\n",
       "      <th>ExperienceInCurrentDomain</th>\n",
       "    </tr>\n",
       "  </thead>\n",
       "  <tbody>\n",
       "    <tr>\n",
       "      <th>0</th>\n",
       "      <td>1.0</td>\n",
       "      <td>0.0</td>\n",
       "      <td>1.0</td>\n",
       "      <td>0.0</td>\n",
       "      <td>2.0</td>\n",
       "      <td>30.0</td>\n",
       "      <td>2.0</td>\n",
       "    </tr>\n",
       "    <tr>\n",
       "      <th>1</th>\n",
       "      <td>0.0</td>\n",
       "      <td>1.0</td>\n",
       "      <td>0.0</td>\n",
       "      <td>1.0</td>\n",
       "      <td>3.0</td>\n",
       "      <td>21.0</td>\n",
       "      <td>3.0</td>\n",
       "    </tr>\n",
       "  </tbody>\n",
       "</table>\n",
       "</div>"
      ],
      "text/plain": [
       "   City[Bangalore]  City[Prune]  Gender[T.Male]  EverBenched[T.Yes]  \\\n",
       "0              1.0          0.0             1.0                 0.0   \n",
       "1              0.0          1.0             0.0                 1.0   \n",
       "\n",
       "   PaymentTier   Age  ExperienceInCurrentDomain  \n",
       "0          2.0  30.0                        2.0  \n",
       "1          3.0  21.0                        3.0  "
      ]
     },
     "execution_count": 19,
     "metadata": {},
     "output_type": "execute_result"
    }
   ],
   "source": [
    "schema.validate(X)"
   ]
  },
  {
   "cell_type": "code",
   "execution_count": null,
   "id": "9dd1ff2d",
   "metadata": {},
   "outputs": [],
   "source": []
  }
 ],
 "metadata": {
  "kernelspec": {
   "display_name": "Python 3 (ipykernel)",
   "language": "python",
   "name": "python3"
  },
  "language_info": {
   "codemirror_mode": {
    "name": "ipython",
    "version": 3
   },
   "file_extension": ".py",
   "mimetype": "text/x-python",
   "name": "python",
   "nbconvert_exporter": "python",
   "pygments_lexer": "ipython3",
   "version": "3.10.10"
  }
 },
 "nbformat": 4,
 "nbformat_minor": 5
}
